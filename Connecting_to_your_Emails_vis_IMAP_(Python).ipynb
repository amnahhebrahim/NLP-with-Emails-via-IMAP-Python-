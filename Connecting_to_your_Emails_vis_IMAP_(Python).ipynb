{
  "nbformat": 4,
  "nbformat_minor": 0,
  "metadata": {
    "colab": {
      "provenance": []
    },
    "kernelspec": {
      "name": "python3",
      "display_name": "Python 3"
    },
    "language_info": {
      "name": "python"
    }
  },
  "cells": [
    {
      "cell_type": "markdown",
      "source": [
        "# Connecting to your Emails vis IMAP (Python)\n",
        "\n",
        "In this tutorial, we will be looking at how to connect to your emails via imap!\n",
        "\n",
        "This video is based on the medium article below:\n",
        "https://medium.com/@amnahhmohammed/natural-language-processing-for-emails-9c1cf5f74f48\n",
        "\n",
        "\n",
        "\n",
        "#### Step #1: Import libraries and necessary packages"
      ],
      "metadata": {
        "id": "q8dLdwdSZUQh"
      }
    },
    {
      "cell_type": "code",
      "source": [
        "import imaplib\n",
        "import email\n",
        "import regex as re\n",
        "import codecs\n",
        "import string\n"
      ],
      "metadata": {
        "id": "CEnSl_7s-Y5c"
      },
      "execution_count": null,
      "outputs": []
    },
    {
      "cell_type": "markdown",
      "source": [
        "#### Step #2: “Connecting” to our email."
      ],
      "metadata": {
        "id": "mQM1aY61aIqI"
      }
    },
    {
      "cell_type": "code",
      "source": [
        "# create an IMAP4_SSL class instance\n",
        "imap = imaplib.IMAP4_SSL(\"imap.gmail.com\")\n",
        "\n",
        "# login with your Gmail account credentials\n",
        "username = \"youremail@gmail.com\"\n",
        "password = \"AppPassword\" #should be an app password, to create one follow this link:https://support.google.com/accounts/answer/185833\n",
        "imap.login(username, password)\n",
        "\n"
      ],
      "metadata": {
        "id": "lQ4WRh5kaS_Z"
      },
      "execution_count": null,
      "outputs": []
    },
    {
      "cell_type": "markdown",
      "source": [
        "#### Step #3: Load Emails"
      ],
      "metadata": {
        "id": "7T0x_yDoacDj"
      }
    },
    {
      "cell_type": "code",
      "source": [
        "for i in imap.list()[1]:\n",
        "    l = i.decode().split(' \"/\" ')\n",
        "    print(l[0] + \" = \" + l[1])\n"
      ],
      "metadata": {
        "colab": {
          "base_uri": "https://localhost:8080/"
        },
        "id": "cFnzhPicacfJ",
        "outputId": "c5653862-05be-4fcb-d571-9389af06e0aa"
      },
      "execution_count": null,
      "outputs": [
        {
          "output_type": "stream",
          "name": "stdout",
          "text": [
            "(\\HasNoChildren) = \"INBOX\"\n",
            "(\\HasChildren \\Noselect) = \"[Gmail]\"\n",
            "(\\All \\HasNoChildren) = \"[Gmail]/All Mail\"\n",
            "(\\HasNoChildren \\Trash) = \"[Gmail]/Bin\"\n",
            "(\\Drafts \\HasNoChildren) = \"[Gmail]/Drafts\"\n",
            "(\\HasNoChildren \\Important) = \"[Gmail]/Important\"\n",
            "(\\HasNoChildren \\Sent) = \"[Gmail]/Sent Mail\"\n",
            "(\\HasNoChildren \\Junk) = \"[Gmail]/Spam\"\n",
            "(\\Flagged \\HasNoChildren) = \"[Gmail]/Starred\"\n"
          ]
        }
      ]
    },
    {
      "cell_type": "code",
      "source": [
        "imap.select('\"INBOX\"')\n",
        "status, messages = imap.search(None, 'UNSEEN')\n",
        "\n",
        "# iterate over the messages and retrieve their contents\n",
        "for num in messages[0].split()[::-1]:\n",
        "    _, msg = imap.fetch(num, \"(RFC822)\")\n",
        "    message = email.message_from_bytes(msg[0][1])\n",
        "\n",
        "    # print the message details\n",
        "    subject_header = message['Subject']\n",
        "    decoded_subject = email.header.decode_header(subject_header)\n",
        "    subject = decoded_subject[0][0]\n",
        "    print(\"Subject:\", subject)\n",
        "    print(\"From:\", message[\"From\"])\n",
        "    print(\"Date:\", message[\"Date\"])"
      ],
      "metadata": {
        "colab": {
          "base_uri": "https://localhost:8080/",
          "height": 1000
        },
        "id": "7_dOwNvXbFRj",
        "outputId": "745db6aa-b921-492d-9f5c-a0311b9afc6d"
      },
      "execution_count": null,
      "outputs": [
        {
          "output_type": "stream",
          "name": "stdout",
          "text": [
            "Subject: Security alert\n",
            "From: Google <no-reply@accounts.google.com>\n",
            "Date: Fri, 05 Jan 2024 21:05:26 GMT\n",
            "Subject: b'Share your 2024 plans, win $250! '\n",
            "From: Ko-fi <hello@Ko-fi.com>\n",
            "Date: Fri, 05 Jan 2024 17:36:42 +0000 (UTC)\n",
            "Subject: Sidney Linkers has subscribed to you on YouTube!\n",
            "From: YouTube <noreply@youtube.com>\n",
            "Date: Fri, 05 Jan 2024 04:00:10 -0800\n",
            "Subject: Re: Claim your 30% discount today\n",
            "From: \"WordPress.com\" <hello@wordpress.com>\n",
            "Date: Fri, 5 Jan 2024 04:35:17 +0000\n",
            "Subject: New comment on \"Circuit Theory in the Lab: Voltage Divider Rule (VDR)\"\n",
            "From: YouTube <noreply@youtube.com>\n",
            "Date: Thu, 04 Jan 2024 15:29:46 -0800\n",
            "Subject: Durand Williams has subscribed to you on YouTube!\n",
            "From: YouTube <noreply@youtube.com>\n",
            "Date: Thu, 04 Jan 2024 03:06:11 -0800\n",
            "Subject: Travis Hurst has subscribed to you on YouTube!\n",
            "From: YouTube <noreply@youtube.com>\n",
            "Date: Wed, 03 Jan 2024 21:32:31 -0800\n",
            "Subject: pnomaster86 has subscribed to you on YouTube!\n",
            "From: YouTube <noreply@youtube.com>\n",
            "Date: Wed, 03 Jan 2024 20:30:40 -0800\n",
            "Subject: b'Hamidullah T\\xc3\\xbcrkmen has subscribed to you on YouTube!'\n",
            "From: YouTube <noreply@youtube.com>\n",
            "Date: Wed, 03 Jan 2024 19:58:12 -0800\n",
            "Subject: Melvin Alquiza has subscribed to you on YouTube!\n",
            "From: YouTube <noreply@youtube.com>\n",
            "Date: Wed, 03 Jan 2024 19:00:28 -0800\n",
            "Subject: Claim your 20% discount today\n",
            "From: \"WordPress.com\" <hello@wordpress.com>\n",
            "Date: Wed, 3 Jan 2024 23:34:28 +0000\n",
            "Subject: oldgraycoder has subscribed to you on YouTube!\n",
            "From: YouTube <noreply@youtube.com>\n",
            "Date: Mon, 01 Jan 2024 16:59:52 -0800\n",
            "Subject: medicusdkfz has subscribed to you on YouTube!\n",
            "From: YouTube <noreply@youtube.com>\n",
            "Date: Mon, 01 Jan 2024 05:46:27 -0800\n",
            "Subject: New comment on \"Circuit Theory in the Lab: Current Divider Rule (CDR)\"\n",
            "From: YouTube <noreply@youtube.com>\n",
            "Date: Sun, 31 Dec 2023 22:56:10 -0800\n",
            "Subject: New comment on \"Circuit Theory in the Lab: Measuring Voltage &\n",
            " Current in Series Circuits\"\n",
            "From: YouTube <noreply@youtube.com>\n",
            "Date: Sun, 31 Dec 2023 22:54:43 -0800\n",
            "Subject: Nabil Srour has subscribed to you on YouTube!\n",
            "From: YouTube <noreply@youtube.com>\n",
            "Date: Sun, 31 Dec 2023 17:54:34 -0800\n",
            "Subject: Mani Zarif has subscribed to you on YouTube!\n",
            "From: YouTube <noreply@youtube.com>\n",
            "Date: Sun, 31 Dec 2023 15:03:35 -0800\n",
            "Subject: Richard Capalini has subscribed to you on YouTube!\n",
            "From: YouTube <noreply@youtube.com>\n",
            "Date: Sun, 31 Dec 2023 10:07:50 -0800\n",
            "Subject: gabaryna99 has subscribed to you on YouTube!\n",
            "From: YouTube <noreply@youtube.com>\n",
            "Date: Sun, 31 Dec 2023 10:03:17 -0800\n",
            "Subject: Matt Goodrich has subscribed to you on YouTube!\n",
            "From: YouTube <noreply@youtube.com>\n",
            "Date: Sat, 30 Dec 2023 09:31:13 -0800\n",
            "Subject: Ebrahim Ahmed has subscribed to you on YouTube!\n",
            "From: YouTube <noreply@youtube.com>\n",
            "Date: Sat, 30 Dec 2023 07:40:10 -0800\n",
            "Subject: b'\\xd9\\x85\\xd9\\x87\\xd8\\xaf\\xdb\\x8c \\xda\\xa9\\xd8\\xb1\\xdb\\x8c\\xd9\\x85\\xdb\\x8c \\xd9\\x88\\xd8\\xa7\\xd8\\xac\\xd8\\xa7\\xd8\\xb1\\xda\\xaf\\xd8\\xa7\\xd9\\x87\\xdb\\x8c has subscribed to you on YouTube!'\n",
            "From: YouTube <noreply@youtube.com>\n",
            "Date: Sat, 30 Dec 2023 05:46:28 -0800\n",
            "Subject: furqon_muhammed has subscribed to you on YouTube!\n",
            "From: YouTube <noreply@youtube.com>\n",
            "Date: Sat, 30 Dec 2023 04:21:45 -0800\n",
            "Subject: Raviteja J has subscribed to you on YouTube!\n",
            "From: YouTube <noreply@youtube.com>\n",
            "Date: Sat, 30 Dec 2023 02:16:25 -0800\n",
            "Subject: Expiring soon: 30% off your website upgrade\n",
            "From: \"WordPress.com\" <hello@wordpress.com>\n",
            "Date: Thu, 28 Dec 2023 21:34:36 +0000\n",
            "Subject: b'\\xd9\\x85\\xd8\\xa7 \\xd9\\x85\\xd9\\x88\\xd9\\x82\\xd9\\x81 \\xd8\\xa7\\xd9\\x84\\xd8\\xb4\\xd9\\x8a\\xd8\\xb9\\xd8\\xa9 \\xd9\\x85\\xd9\\x86 \\xd8\\xad\\xd8\\xb1\\xd9\\x83\\xd9\\x87 \\xd8\\xad\\xd9\\x85\\xd8\\xa7\\xd8\\xb3 \\xd8\\xa7\\xd9\\x84\\xd8\\xb3\\xd9\\x86\\xd9\\x8a\\xd8\\xa9 \\xd8\\x9f'\n",
            "From: =?utf-8?q?=D9=85=D8=AE=D8=AA=D8=A7=D8=B1=D8=A7=D8=AA_Quora?=\n",
            " <arabic-personalized-digest@quora.com>\n",
            "Date: Wed, 27 Dec 2023 06:04:24 +0000\n",
            "Subject: Wenzel Jones has subscribed to you on YouTube!\n",
            "From: YouTube <noreply@youtube.com>\n",
            "Date: Tue, 26 Dec 2023 11:42:41 -0800\n",
            "Subject: Extended offer! 30% off your WordPress.com plan upgrade\n",
            "From: \"WordPress.com\" <hello@wordpress.com>\n",
            "Date: Tue, 26 Dec 2023 18:57:04 +0000\n",
            "Subject: muslim vibez has subscribed to you on YouTube!\n",
            "From: YouTube <noreply@youtube.com>\n",
            "Date: Tue, 26 Dec 2023 04:14:41 -0800\n",
            "Subject: New comment on \"Circuit Theory in the Lab: Loops, Meshes, Nodes & Branches\"\n",
            "From: YouTube <noreply@youtube.com>\n",
            "Date: Mon, 25 Dec 2023 23:35:48 -0800\n",
            "Subject: Abhishek Tamrakar has subscribed to you on YouTube!\n",
            "From: YouTube <noreply@youtube.com>\n",
            "Date: Mon, 25 Dec 2023 06:25:38 -0800\n",
            "Subject: M has subscribed to you on YouTube!\n",
            "From: YouTube <noreply@youtube.com>\n",
            "Date: Sun, 24 Dec 2023 20:58:13 -0800\n",
            "Subject: Boris Shashkin has subscribed to you on YouTube!\n",
            "From: YouTube <noreply@youtube.com>\n",
            "Date: Sun, 24 Dec 2023 18:46:56 -0800\n",
            "Subject: stephen cooper has subscribed to you on YouTube!\n",
            "From: YouTube <noreply@youtube.com>\n",
            "Date: Sun, 24 Dec 2023 14:09:50 -0800\n",
            "Subject: Gidena Kindeya has subscribed to you on YouTube!\n",
            "From: YouTube <noreply@youtube.com>\n",
            "Date: Sun, 24 Dec 2023 06:03:08 -0800\n",
            "Subject: takforalt has subscribed to you on YouTube!\n",
            "From: YouTube <noreply@youtube.com>\n",
            "Date: Sun, 24 Dec 2023 05:25:38 -0800\n",
            "Subject: b'\\xeb\\xb0\\x95\\xec\\x84\\xb1\\xeb\\xb0\\xb0 has subscribed to you on YouTube!'\n",
            "From: YouTube <noreply@youtube.com>\n",
            "Date: Sat, 23 Dec 2023 17:35:32 -0800\n",
            "Subject: Juuso Ps has subscribed to you on YouTube!\n",
            "From: YouTube <noreply@youtube.com>\n",
            "Date: Sat, 23 Dec 2023 12:08:30 -0800\n",
            "Subject: Surging Circuits has subscribed to you on YouTube!\n",
            "From: YouTube <noreply@youtube.com>\n",
            "Date: Sat, 23 Dec 2023 11:16:03 -0800\n",
            "Subject: New comment on \"Tinkering with YDLidar: Setup of YDLidar's SDK on\n",
            " Raspberry Pi\"\n",
            "From: YouTube <noreply@youtube.com>\n",
            "Date: Fri, 22 Dec 2023 19:10:07 -0800\n",
            "Subject: New comment on \"Circuit Theory in the Lab: Measuring Voltage &\n",
            " Current in Series Circuits\"\n",
            "From: YouTube <noreply@youtube.com>\n",
            "Date: Thu, 21 Dec 2023 22:24:31 -0800\n",
            "Subject: Last chance: Upgrade your plan and get a discount\n",
            "From: \"WordPress.com\" <hello@wordpress.com>\n",
            "Date: Thu, 21 Dec 2023 23:47:26 +0000\n",
            "Subject: Guister has subscribed to you on YouTube!\n",
            "From: YouTube <noreply@youtube.com>\n",
            "Date: Wed, 20 Dec 2023 15:16:12 -0800\n",
            "Subject: b'\\xf0\\x9f\\x92\\xa5 End the year the right way'\n",
            "From: Hack The Box <crew@hackthebox.com>\n",
            "Date: Wed, 20 Dec 2023 19:52:30 +0000\n",
            "Subject: Mailomix has subscribed to you on YouTube!\n",
            "From: YouTube <noreply@youtube.com>\n",
            "Date: Wed, 20 Dec 2023 06:41:29 -0800\n",
            "Subject: Frode Lund Tharaldsen has subscribed to you on YouTube!\n",
            "From: YouTube <noreply@youtube.com>\n",
            "Date: Wed, 20 Dec 2023 01:18:08 -0800\n",
            "Subject: b'\\xd9\\x84\\xd9\\x85\\xd8\\xa7\\xd8\\xb0\\xd8\\xa7 \\xd9\\x8a\\xd8\\xb5\\xd8\\xb1 \\xd8\\xa7\\xd9\\x84\\xd8\\xb4\\xd9\\x8a\\xd8\\xb9\\xd8\\xa9 \\xd8\\xb9\\xd9\\x84\\xd9\\x89 \\xd8\\xb2\\xd9\\x88\\xd8\\xa7\\xd8\\xac \\xd8\\xa7\\xd9\\x84\\xd9\\x85\\xd8\\xaa\\xd8\\xb9\\xd8\\xa9 \\xd8\\xa7\\xd9\\x84\\xd8\\xb0\\xd9\\x8a \\xd8\\xad\\xd8\\xb1\\xd9\\x85\\xd9\\x87 \\xd8\\xa7\\xd9\\x84\\xd9\\x84\\xd9\\x87 \\xd8\\xaa\\xd8\\xb9\\xd8\\xa7\\xd9\\x84\\xd9\\x89\\xd8\\x9f'\n",
            "From: =?utf-8?q?=D9=85=D8=AE=D8=AA=D8=A7=D8=B1=D8=A7=D8=AA_Quora?=\n",
            " <arabic-personalized-digest@quora.com>\n",
            "Date: Wed, 20 Dec 2023 05:53:10 +0000\n",
            "Subject: Charles Mangum has subscribed to you on YouTube!\n",
            "From: YouTube <noreply@youtube.com>\n",
            "Date: Tue, 19 Dec 2023 16:19:51 -0800\n",
            "Subject: George Baker has subscribed to you on YouTube!\n",
            "From: YouTube <noreply@youtube.com>\n",
            "Date: Tue, 19 Dec 2023 15:54:09 -0800\n",
            "Subject: Eddy De Waegeneer has subscribed to you on YouTube!\n",
            "From: YouTube <noreply@youtube.com>\n",
            "Date: Mon, 18 Dec 2023 09:15:03 -0800\n",
            "Subject: b'\\xf0\\x9f\\x94\\x96 Limited Time Offer - 25% OFF'\n",
            "From: HTB Academy <academy@hackthebox.com>\n",
            "Date: Mon, 18 Dec 2023 17:00:49 +0000\n",
            "Subject: rongfeng liang has subscribed to you on YouTube!\n",
            "From: YouTube <noreply@youtube.com>\n",
            "Date: Mon, 18 Dec 2023 02:48:21 -0800\n",
            "Subject: b'\\xf0\\x9f\\x93\\x9d\\xc2\\xa0'\n",
            "From: Ko-fi <hello@Ko-fi.com>\n",
            "Date: Sun, 17 Dec 2023 14:36:33 +0000 (UTC)\n",
            "Subject: Luke De Vincentis has subscribed to you on YouTube!\n",
            "From: YouTube <noreply@youtube.com>\n",
            "Date: Sat, 16 Dec 2023 13:18:17 -0800\n",
            "Subject: b'\\xf0\\x9f\\x9b\\x8d\\xef\\xb8\\x8f'\n",
            "From: Ko-fi <hello@Ko-fi.com>\n",
            "Date: Sat, 16 Dec 2023 14:33:57 +0000 (UTC)\n",
            "Subject: simon forbes has subscribed to you on YouTube!\n",
            "From: YouTube <noreply@youtube.com>\n",
            "Date: Fri, 15 Dec 2023 21:32:49 -0800\n",
            "Subject: THE JOSH FIT ROUTINE has subscribed to you on YouTube!\n",
            "From: YouTube <noreply@youtube.com>\n",
            "Date: Fri, 15 Dec 2023 08:20:06 -0800\n",
            "Subject: b'\\xf0\\x9f\\x92\\xb8'\n",
            "From: Ko-fi <hello@Ko-fi.com>\n",
            "Date: Fri, 15 Dec 2023 14:33:48 +0000 (UTC)\n",
            "Subject: b'Knowledge bases, DALL-E-3, Playground v2, international expansion, and more'\n",
            "From: Poe <product-updates@poe.com>\n",
            "Date: Fri, 15 Dec 2023 11:25:48 +0000\n",
            "Subject: Michael Iverson has subscribed to you on YouTube!\n",
            "From: YouTube <noreply@youtube.com>\n",
            "Date: Fri, 15 Dec 2023 00:09:03 -0800\n",
            "Subject: Sheriffdeen Zakariyah has subscribed to you on YouTube!\n",
            "From: YouTube <noreply@youtube.com>\n",
            "Date: Thu, 14 Dec 2023 16:16:58 -0800\n",
            "Subject: New comment on \"Tinkering with YDLidar: Setup of YDLidar's SDK on\n",
            " Raspberry Pi\"\n",
            "From: YouTube <noreply@youtube.com>\n",
            "Date: Thu, 14 Dec 2023 14:57:12 -0800\n",
            "Subject: b'Join the Ko-fi Discord community '\n",
            "From: Ko-fi <hello@Ko-fi.com>\n",
            "Date: Thu, 14 Dec 2023 14:33:37 +0000 (UTC)\n",
            "Subject: Jim Edgar has subscribed to you on YouTube!\n",
            "From: YouTube <noreply@youtube.com>\n",
            "Date: Wed, 13 Dec 2023 17:19:11 -0800\n",
            "Subject: b'\\xd0\\x95\\xd0\\xb2\\xd0\\xb3\\xd0\\xb5\\xd0\\xbd\\xd0\\xb8\\xd0\\xb9 \\xd0\\xa8\\xd0\\xb5\\xd0\\xbf\\xd0\\xb0\\xd1\\x80\\xd0\\xb4 has subscribed to you on YouTube!'\n",
            "From: YouTube <noreply@youtube.com>\n",
            "Date: Wed, 13 Dec 2023 06:44:30 -0800\n"
          ]
        },
        {
          "output_type": "error",
          "ename": "KeyboardInterrupt",
          "evalue": "",
          "traceback": [
            "\u001b[0;31m---------------------------------------------------------------------------\u001b[0m",
            "\u001b[0;31mKeyboardInterrupt\u001b[0m                         Traceback (most recent call last)",
            "\u001b[0;32m<ipython-input-8-6a823747e57d>\u001b[0m in \u001b[0;36m<cell line: 5>\u001b[0;34m()\u001b[0m\n\u001b[1;32m      4\u001b[0m \u001b[0;31m# iterate over the messages and retrieve their contents\u001b[0m\u001b[0;34m\u001b[0m\u001b[0;34m\u001b[0m\u001b[0m\n\u001b[1;32m      5\u001b[0m \u001b[0;32mfor\u001b[0m \u001b[0mnum\u001b[0m \u001b[0;32min\u001b[0m \u001b[0mmessages\u001b[0m\u001b[0;34m[\u001b[0m\u001b[0;36m0\u001b[0m\u001b[0;34m]\u001b[0m\u001b[0;34m.\u001b[0m\u001b[0msplit\u001b[0m\u001b[0;34m(\u001b[0m\u001b[0;34m)\u001b[0m\u001b[0;34m[\u001b[0m\u001b[0;34m:\u001b[0m\u001b[0;34m:\u001b[0m\u001b[0;34m-\u001b[0m\u001b[0;36m1\u001b[0m\u001b[0;34m]\u001b[0m\u001b[0;34m:\u001b[0m\u001b[0;34m\u001b[0m\u001b[0;34m\u001b[0m\u001b[0m\n\u001b[0;32m----> 6\u001b[0;31m     \u001b[0m_\u001b[0m\u001b[0;34m,\u001b[0m \u001b[0mmsg\u001b[0m \u001b[0;34m=\u001b[0m \u001b[0mimap\u001b[0m\u001b[0;34m.\u001b[0m\u001b[0mfetch\u001b[0m\u001b[0;34m(\u001b[0m\u001b[0mnum\u001b[0m\u001b[0;34m,\u001b[0m \u001b[0;34m\"(RFC822)\"\u001b[0m\u001b[0;34m)\u001b[0m\u001b[0;34m\u001b[0m\u001b[0;34m\u001b[0m\u001b[0m\n\u001b[0m\u001b[1;32m      7\u001b[0m     \u001b[0mmessage\u001b[0m \u001b[0;34m=\u001b[0m \u001b[0memail\u001b[0m\u001b[0;34m.\u001b[0m\u001b[0mmessage_from_bytes\u001b[0m\u001b[0;34m(\u001b[0m\u001b[0mmsg\u001b[0m\u001b[0;34m[\u001b[0m\u001b[0;36m0\u001b[0m\u001b[0;34m]\u001b[0m\u001b[0;34m[\u001b[0m\u001b[0;36m1\u001b[0m\u001b[0;34m]\u001b[0m\u001b[0;34m)\u001b[0m\u001b[0;34m\u001b[0m\u001b[0;34m\u001b[0m\u001b[0m\n\u001b[1;32m      8\u001b[0m \u001b[0;34m\u001b[0m\u001b[0m\n",
            "\u001b[0;32m/usr/lib/python3.10/imaplib.py\u001b[0m in \u001b[0;36mfetch\u001b[0;34m(self, message_set, message_parts)\u001b[0m\n\u001b[1;32m    546\u001b[0m         \"\"\"\n\u001b[1;32m    547\u001b[0m         \u001b[0mname\u001b[0m \u001b[0;34m=\u001b[0m \u001b[0;34m'FETCH'\u001b[0m\u001b[0;34m\u001b[0m\u001b[0;34m\u001b[0m\u001b[0m\n\u001b[0;32m--> 548\u001b[0;31m         \u001b[0mtyp\u001b[0m\u001b[0;34m,\u001b[0m \u001b[0mdat\u001b[0m \u001b[0;34m=\u001b[0m \u001b[0mself\u001b[0m\u001b[0;34m.\u001b[0m\u001b[0m_simple_command\u001b[0m\u001b[0;34m(\u001b[0m\u001b[0mname\u001b[0m\u001b[0;34m,\u001b[0m \u001b[0mmessage_set\u001b[0m\u001b[0;34m,\u001b[0m \u001b[0mmessage_parts\u001b[0m\u001b[0;34m)\u001b[0m\u001b[0;34m\u001b[0m\u001b[0;34m\u001b[0m\u001b[0m\n\u001b[0m\u001b[1;32m    549\u001b[0m         \u001b[0;32mreturn\u001b[0m \u001b[0mself\u001b[0m\u001b[0;34m.\u001b[0m\u001b[0m_untagged_response\u001b[0m\u001b[0;34m(\u001b[0m\u001b[0mtyp\u001b[0m\u001b[0;34m,\u001b[0m \u001b[0mdat\u001b[0m\u001b[0;34m,\u001b[0m \u001b[0mname\u001b[0m\u001b[0;34m)\u001b[0m\u001b[0;34m\u001b[0m\u001b[0;34m\u001b[0m\u001b[0m\n\u001b[1;32m    550\u001b[0m \u001b[0;34m\u001b[0m\u001b[0m\n",
            "\u001b[0;32m/usr/lib/python3.10/imaplib.py\u001b[0m in \u001b[0;36m_simple_command\u001b[0;34m(self, name, *args)\u001b[0m\n\u001b[1;32m   1228\u001b[0m     \u001b[0;32mdef\u001b[0m \u001b[0m_simple_command\u001b[0m\u001b[0;34m(\u001b[0m\u001b[0mself\u001b[0m\u001b[0;34m,\u001b[0m \u001b[0mname\u001b[0m\u001b[0;34m,\u001b[0m \u001b[0;34m*\u001b[0m\u001b[0margs\u001b[0m\u001b[0;34m)\u001b[0m\u001b[0;34m:\u001b[0m\u001b[0;34m\u001b[0m\u001b[0;34m\u001b[0m\u001b[0m\n\u001b[1;32m   1229\u001b[0m \u001b[0;34m\u001b[0m\u001b[0m\n\u001b[0;32m-> 1230\u001b[0;31m         \u001b[0;32mreturn\u001b[0m \u001b[0mself\u001b[0m\u001b[0;34m.\u001b[0m\u001b[0m_command_complete\u001b[0m\u001b[0;34m(\u001b[0m\u001b[0mname\u001b[0m\u001b[0;34m,\u001b[0m \u001b[0mself\u001b[0m\u001b[0;34m.\u001b[0m\u001b[0m_command\u001b[0m\u001b[0;34m(\u001b[0m\u001b[0mname\u001b[0m\u001b[0;34m,\u001b[0m \u001b[0;34m*\u001b[0m\u001b[0margs\u001b[0m\u001b[0;34m)\u001b[0m\u001b[0;34m)\u001b[0m\u001b[0;34m\u001b[0m\u001b[0;34m\u001b[0m\u001b[0m\n\u001b[0m\u001b[1;32m   1231\u001b[0m \u001b[0;34m\u001b[0m\u001b[0m\n\u001b[1;32m   1232\u001b[0m \u001b[0;34m\u001b[0m\u001b[0m\n",
            "\u001b[0;32m/usr/lib/python3.10/imaplib.py\u001b[0m in \u001b[0;36m_command_complete\u001b[0;34m(self, name, tag)\u001b[0m\n\u001b[1;32m   1045\u001b[0m             \u001b[0mself\u001b[0m\u001b[0;34m.\u001b[0m\u001b[0m_check_bye\u001b[0m\u001b[0;34m(\u001b[0m\u001b[0;34m)\u001b[0m\u001b[0;34m\u001b[0m\u001b[0;34m\u001b[0m\u001b[0m\n\u001b[1;32m   1046\u001b[0m         \u001b[0;32mtry\u001b[0m\u001b[0;34m:\u001b[0m\u001b[0;34m\u001b[0m\u001b[0;34m\u001b[0m\u001b[0m\n\u001b[0;32m-> 1047\u001b[0;31m             \u001b[0mtyp\u001b[0m\u001b[0;34m,\u001b[0m \u001b[0mdata\u001b[0m \u001b[0;34m=\u001b[0m \u001b[0mself\u001b[0m\u001b[0;34m.\u001b[0m\u001b[0m_get_tagged_response\u001b[0m\u001b[0;34m(\u001b[0m\u001b[0mtag\u001b[0m\u001b[0;34m,\u001b[0m \u001b[0mexpect_bye\u001b[0m\u001b[0;34m=\u001b[0m\u001b[0mlogout\u001b[0m\u001b[0;34m)\u001b[0m\u001b[0;34m\u001b[0m\u001b[0;34m\u001b[0m\u001b[0m\n\u001b[0m\u001b[1;32m   1048\u001b[0m         \u001b[0;32mexcept\u001b[0m \u001b[0mself\u001b[0m\u001b[0;34m.\u001b[0m\u001b[0mabort\u001b[0m \u001b[0;32mas\u001b[0m \u001b[0mval\u001b[0m\u001b[0;34m:\u001b[0m\u001b[0;34m\u001b[0m\u001b[0;34m\u001b[0m\u001b[0m\n\u001b[1;32m   1049\u001b[0m             \u001b[0;32mraise\u001b[0m \u001b[0mself\u001b[0m\u001b[0;34m.\u001b[0m\u001b[0mabort\u001b[0m\u001b[0;34m(\u001b[0m\u001b[0;34m'command: %s => %s'\u001b[0m \u001b[0;34m%\u001b[0m \u001b[0;34m(\u001b[0m\u001b[0mname\u001b[0m\u001b[0;34m,\u001b[0m \u001b[0mval\u001b[0m\u001b[0;34m)\u001b[0m\u001b[0;34m)\u001b[0m\u001b[0;34m\u001b[0m\u001b[0;34m\u001b[0m\u001b[0m\n",
            "\u001b[0;32m/usr/lib/python3.10/imaplib.py\u001b[0m in \u001b[0;36m_get_tagged_response\u001b[0;34m(self, tag, expect_bye)\u001b[0m\n\u001b[1;32m   1171\u001b[0m \u001b[0;34m\u001b[0m\u001b[0m\n\u001b[1;32m   1172\u001b[0m             \u001b[0;32mtry\u001b[0m\u001b[0;34m:\u001b[0m\u001b[0;34m\u001b[0m\u001b[0;34m\u001b[0m\u001b[0m\n\u001b[0;32m-> 1173\u001b[0;31m                 \u001b[0mself\u001b[0m\u001b[0;34m.\u001b[0m\u001b[0m_get_response\u001b[0m\u001b[0;34m(\u001b[0m\u001b[0;34m)\u001b[0m\u001b[0;34m\u001b[0m\u001b[0;34m\u001b[0m\u001b[0m\n\u001b[0m\u001b[1;32m   1174\u001b[0m             \u001b[0;32mexcept\u001b[0m \u001b[0mself\u001b[0m\u001b[0;34m.\u001b[0m\u001b[0mabort\u001b[0m \u001b[0;32mas\u001b[0m \u001b[0mval\u001b[0m\u001b[0;34m:\u001b[0m\u001b[0;34m\u001b[0m\u001b[0;34m\u001b[0m\u001b[0m\n\u001b[1;32m   1175\u001b[0m                 \u001b[0;32mif\u001b[0m \u001b[0m__debug__\u001b[0m\u001b[0;34m:\u001b[0m\u001b[0;34m\u001b[0m\u001b[0;34m\u001b[0m\u001b[0m\n",
            "\u001b[0;32m/usr/lib/python3.10/imaplib.py\u001b[0m in \u001b[0;36m_get_response\u001b[0;34m(self)\u001b[0m\n\u001b[1;32m   1073\u001b[0m         \u001b[0;31m# otherwise first response line received.\u001b[0m\u001b[0;34m\u001b[0m\u001b[0;34m\u001b[0m\u001b[0m\n\u001b[1;32m   1074\u001b[0m \u001b[0;34m\u001b[0m\u001b[0m\n\u001b[0;32m-> 1075\u001b[0;31m         \u001b[0mresp\u001b[0m \u001b[0;34m=\u001b[0m \u001b[0mself\u001b[0m\u001b[0;34m.\u001b[0m\u001b[0m_get_line\u001b[0m\u001b[0;34m(\u001b[0m\u001b[0;34m)\u001b[0m\u001b[0;34m\u001b[0m\u001b[0;34m\u001b[0m\u001b[0m\n\u001b[0m\u001b[1;32m   1076\u001b[0m \u001b[0;34m\u001b[0m\u001b[0m\n\u001b[1;32m   1077\u001b[0m         \u001b[0;31m# Command completion response?\u001b[0m\u001b[0;34m\u001b[0m\u001b[0;34m\u001b[0m\u001b[0m\n",
            "\u001b[0;32m/usr/lib/python3.10/imaplib.py\u001b[0m in \u001b[0;36m_get_line\u001b[0;34m(self)\u001b[0m\n\u001b[1;32m   1181\u001b[0m     \u001b[0;32mdef\u001b[0m \u001b[0m_get_line\u001b[0m\u001b[0;34m(\u001b[0m\u001b[0mself\u001b[0m\u001b[0;34m)\u001b[0m\u001b[0;34m:\u001b[0m\u001b[0;34m\u001b[0m\u001b[0;34m\u001b[0m\u001b[0m\n\u001b[1;32m   1182\u001b[0m \u001b[0;34m\u001b[0m\u001b[0m\n\u001b[0;32m-> 1183\u001b[0;31m         \u001b[0mline\u001b[0m \u001b[0;34m=\u001b[0m \u001b[0mself\u001b[0m\u001b[0;34m.\u001b[0m\u001b[0mreadline\u001b[0m\u001b[0;34m(\u001b[0m\u001b[0;34m)\u001b[0m\u001b[0;34m\u001b[0m\u001b[0;34m\u001b[0m\u001b[0m\n\u001b[0m\u001b[1;32m   1184\u001b[0m         \u001b[0;32mif\u001b[0m \u001b[0;32mnot\u001b[0m \u001b[0mline\u001b[0m\u001b[0;34m:\u001b[0m\u001b[0;34m\u001b[0m\u001b[0;34m\u001b[0m\u001b[0m\n\u001b[1;32m   1185\u001b[0m             \u001b[0;32mraise\u001b[0m \u001b[0mself\u001b[0m\u001b[0;34m.\u001b[0m\u001b[0mabort\u001b[0m\u001b[0;34m(\u001b[0m\u001b[0;34m'socket error: EOF'\u001b[0m\u001b[0;34m)\u001b[0m\u001b[0;34m\u001b[0m\u001b[0;34m\u001b[0m\u001b[0m\n",
            "\u001b[0;32m/usr/lib/python3.10/imaplib.py\u001b[0m in \u001b[0;36mreadline\u001b[0;34m(self)\u001b[0m\n\u001b[1;32m    321\u001b[0m     \u001b[0;32mdef\u001b[0m \u001b[0mreadline\u001b[0m\u001b[0;34m(\u001b[0m\u001b[0mself\u001b[0m\u001b[0;34m)\u001b[0m\u001b[0;34m:\u001b[0m\u001b[0;34m\u001b[0m\u001b[0;34m\u001b[0m\u001b[0m\n\u001b[1;32m    322\u001b[0m         \u001b[0;34m\"\"\"Read line from remote.\"\"\"\u001b[0m\u001b[0;34m\u001b[0m\u001b[0;34m\u001b[0m\u001b[0m\n\u001b[0;32m--> 323\u001b[0;31m         \u001b[0mline\u001b[0m \u001b[0;34m=\u001b[0m \u001b[0mself\u001b[0m\u001b[0;34m.\u001b[0m\u001b[0mfile\u001b[0m\u001b[0;34m.\u001b[0m\u001b[0mreadline\u001b[0m\u001b[0;34m(\u001b[0m\u001b[0m_MAXLINE\u001b[0m \u001b[0;34m+\u001b[0m \u001b[0;36m1\u001b[0m\u001b[0;34m)\u001b[0m\u001b[0;34m\u001b[0m\u001b[0;34m\u001b[0m\u001b[0m\n\u001b[0m\u001b[1;32m    324\u001b[0m         \u001b[0;32mif\u001b[0m \u001b[0mlen\u001b[0m\u001b[0;34m(\u001b[0m\u001b[0mline\u001b[0m\u001b[0;34m)\u001b[0m \u001b[0;34m>\u001b[0m \u001b[0m_MAXLINE\u001b[0m\u001b[0;34m:\u001b[0m\u001b[0;34m\u001b[0m\u001b[0;34m\u001b[0m\u001b[0m\n\u001b[1;32m    325\u001b[0m             \u001b[0;32mraise\u001b[0m \u001b[0mself\u001b[0m\u001b[0;34m.\u001b[0m\u001b[0merror\u001b[0m\u001b[0;34m(\u001b[0m\u001b[0;34m\"got more than %d bytes\"\u001b[0m \u001b[0;34m%\u001b[0m \u001b[0m_MAXLINE\u001b[0m\u001b[0;34m)\u001b[0m\u001b[0;34m\u001b[0m\u001b[0;34m\u001b[0m\u001b[0m\n",
            "\u001b[0;32m/usr/lib/python3.10/socket.py\u001b[0m in \u001b[0;36mreadinto\u001b[0;34m(self, b)\u001b[0m\n\u001b[1;32m    703\u001b[0m         \u001b[0;32mwhile\u001b[0m \u001b[0;32mTrue\u001b[0m\u001b[0;34m:\u001b[0m\u001b[0;34m\u001b[0m\u001b[0;34m\u001b[0m\u001b[0m\n\u001b[1;32m    704\u001b[0m             \u001b[0;32mtry\u001b[0m\u001b[0;34m:\u001b[0m\u001b[0;34m\u001b[0m\u001b[0;34m\u001b[0m\u001b[0m\n\u001b[0;32m--> 705\u001b[0;31m                 \u001b[0;32mreturn\u001b[0m \u001b[0mself\u001b[0m\u001b[0;34m.\u001b[0m\u001b[0m_sock\u001b[0m\u001b[0;34m.\u001b[0m\u001b[0mrecv_into\u001b[0m\u001b[0;34m(\u001b[0m\u001b[0mb\u001b[0m\u001b[0;34m)\u001b[0m\u001b[0;34m\u001b[0m\u001b[0;34m\u001b[0m\u001b[0m\n\u001b[0m\u001b[1;32m    706\u001b[0m             \u001b[0;32mexcept\u001b[0m \u001b[0mtimeout\u001b[0m\u001b[0;34m:\u001b[0m\u001b[0;34m\u001b[0m\u001b[0;34m\u001b[0m\u001b[0m\n\u001b[1;32m    707\u001b[0m                 \u001b[0mself\u001b[0m\u001b[0;34m.\u001b[0m\u001b[0m_timeout_occurred\u001b[0m \u001b[0;34m=\u001b[0m \u001b[0;32mTrue\u001b[0m\u001b[0;34m\u001b[0m\u001b[0;34m\u001b[0m\u001b[0m\n",
            "\u001b[0;32m/usr/lib/python3.10/ssl.py\u001b[0m in \u001b[0;36mrecv_into\u001b[0;34m(self, buffer, nbytes, flags)\u001b[0m\n\u001b[1;32m   1301\u001b[0m                   \u001b[0;34m\"non-zero flags not allowed in calls to recv_into() on %s\"\u001b[0m \u001b[0;34m%\u001b[0m\u001b[0;34m\u001b[0m\u001b[0;34m\u001b[0m\u001b[0m\n\u001b[1;32m   1302\u001b[0m                   self.__class__)\n\u001b[0;32m-> 1303\u001b[0;31m             \u001b[0;32mreturn\u001b[0m \u001b[0mself\u001b[0m\u001b[0;34m.\u001b[0m\u001b[0mread\u001b[0m\u001b[0;34m(\u001b[0m\u001b[0mnbytes\u001b[0m\u001b[0;34m,\u001b[0m \u001b[0mbuffer\u001b[0m\u001b[0;34m)\u001b[0m\u001b[0;34m\u001b[0m\u001b[0;34m\u001b[0m\u001b[0m\n\u001b[0m\u001b[1;32m   1304\u001b[0m         \u001b[0;32melse\u001b[0m\u001b[0;34m:\u001b[0m\u001b[0;34m\u001b[0m\u001b[0;34m\u001b[0m\u001b[0m\n\u001b[1;32m   1305\u001b[0m             \u001b[0;32mreturn\u001b[0m \u001b[0msuper\u001b[0m\u001b[0;34m(\u001b[0m\u001b[0;34m)\u001b[0m\u001b[0;34m.\u001b[0m\u001b[0mrecv_into\u001b[0m\u001b[0;34m(\u001b[0m\u001b[0mbuffer\u001b[0m\u001b[0;34m,\u001b[0m \u001b[0mnbytes\u001b[0m\u001b[0;34m,\u001b[0m \u001b[0mflags\u001b[0m\u001b[0;34m)\u001b[0m\u001b[0;34m\u001b[0m\u001b[0;34m\u001b[0m\u001b[0m\n",
            "\u001b[0;32m/usr/lib/python3.10/ssl.py\u001b[0m in \u001b[0;36mread\u001b[0;34m(self, len, buffer)\u001b[0m\n\u001b[1;32m   1157\u001b[0m         \u001b[0;32mtry\u001b[0m\u001b[0;34m:\u001b[0m\u001b[0;34m\u001b[0m\u001b[0;34m\u001b[0m\u001b[0m\n\u001b[1;32m   1158\u001b[0m             \u001b[0;32mif\u001b[0m \u001b[0mbuffer\u001b[0m \u001b[0;32mis\u001b[0m \u001b[0;32mnot\u001b[0m \u001b[0;32mNone\u001b[0m\u001b[0;34m:\u001b[0m\u001b[0;34m\u001b[0m\u001b[0;34m\u001b[0m\u001b[0m\n\u001b[0;32m-> 1159\u001b[0;31m                 \u001b[0;32mreturn\u001b[0m \u001b[0mself\u001b[0m\u001b[0;34m.\u001b[0m\u001b[0m_sslobj\u001b[0m\u001b[0;34m.\u001b[0m\u001b[0mread\u001b[0m\u001b[0;34m(\u001b[0m\u001b[0mlen\u001b[0m\u001b[0;34m,\u001b[0m \u001b[0mbuffer\u001b[0m\u001b[0;34m)\u001b[0m\u001b[0;34m\u001b[0m\u001b[0;34m\u001b[0m\u001b[0m\n\u001b[0m\u001b[1;32m   1160\u001b[0m             \u001b[0;32melse\u001b[0m\u001b[0;34m:\u001b[0m\u001b[0;34m\u001b[0m\u001b[0;34m\u001b[0m\u001b[0m\n\u001b[1;32m   1161\u001b[0m                 \u001b[0;32mreturn\u001b[0m \u001b[0mself\u001b[0m\u001b[0;34m.\u001b[0m\u001b[0m_sslobj\u001b[0m\u001b[0;34m.\u001b[0m\u001b[0mread\u001b[0m\u001b[0;34m(\u001b[0m\u001b[0mlen\u001b[0m\u001b[0;34m)\u001b[0m\u001b[0;34m\u001b[0m\u001b[0;34m\u001b[0m\u001b[0m\n",
            "\u001b[0;31mKeyboardInterrupt\u001b[0m: "
          ]
        }
      ]
    },
    {
      "cell_type": "markdown",
      "source": [
        "#### Step #4: NLP Task (Next Video!)"
      ],
      "metadata": {
        "id": "rq_o6h8fakh8"
      }
    }
  ]
}